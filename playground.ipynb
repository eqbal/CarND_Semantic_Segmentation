{
 "cells": [
  {
   "cell_type": "code",
   "execution_count": 1,
   "metadata": {
    "collapsed": true
   },
   "outputs": [],
   "source": [
    "import math\n",
    "import os.path\n",
    "import tensorflow as tf\n",
    "import helper\n",
    "import tests\n",
    "from tqdm import tqdm\n",
    "from fcn import FCN"
   ]
  },
  {
   "cell_type": "code",
   "execution_count": 2,
   "metadata": {
    "collapsed": false
   },
   "outputs": [],
   "source": [
    "fcn = FCN()"
   ]
  },
  {
   "cell_type": "code",
   "execution_count": 3,
   "metadata": {
    "collapsed": false
   },
   "outputs": [
    {
     "data": {
      "text/plain": [
       "{'batch_size': 4,\n",
       " 'data_dir': 'data',\n",
       " 'dropout': 0.5,\n",
       " 'epochs': 100,\n",
       " 'image_shape': (160, 576),\n",
       " 'init_sd': 0.01,\n",
       " 'learning_rate': 1e-05,\n",
       " 'num_classes': 2,\n",
       " 'runs_dir': 'runs',\n",
       " 'save_location': 'data/fcn/',\n",
       " 'training_images': 289,\n",
       " 'training_path': 'data/data_road/training',\n",
       " 'training_subdir': 'data_road/training',\n",
       " 'vgg_path': 'data/vgg'}"
      ]
     },
     "execution_count": 3,
     "metadata": {},
     "output_type": "execute_result"
    }
   ],
   "source": [
    "fcn.__dict__"
   ]
  },
  {
   "cell_type": "code",
   "execution_count": null,
   "metadata": {
    "collapsed": false
   },
   "outputs": [
    {
     "name": "stdout",
     "output_type": "stream",
     "text": [
      "TensorFlow Version: 1.2.1\n",
      "No GPU found. Please use a GPU to train your neural network.\n",
      "test_for_kitti_dataset tests passed.\n",
      "INFO:tensorflow:Restoring parameters from b'data/vgg/variables/variables'\n"
     ]
    },
    {
     "name": "stderr",
     "output_type": "stream",
     "text": [
      "\r",
      "Batch:   0%|          | 0/73 [00:00<?, ?it/s]"
     ]
    },
    {
     "name": "stdout",
     "output_type": "stream",
     "text": [
      "Epoch: 1/100\n"
     ]
    },
    {
     "name": "stderr",
     "output_type": "stream",
     "text": [
      "Batch:  96%|█████████▌| 70/73 [56:36<01:16, 25.47s/it]  "
     ]
    }
   ],
   "source": [
    "fcn.run()"
   ]
  },
  {
   "cell_type": "code",
   "execution_count": null,
   "metadata": {
    "collapsed": true
   },
   "outputs": [],
   "source": []
  }
 ],
 "metadata": {
  "kernelspec": {
   "display_name": "Python 3",
   "language": "python",
   "name": "python3"
  },
  "language_info": {
   "codemirror_mode": {
    "name": "ipython",
    "version": 3
   },
   "file_extension": ".py",
   "mimetype": "text/x-python",
   "name": "python",
   "nbconvert_exporter": "python",
   "pygments_lexer": "ipython3",
   "version": "3.6.0"
  }
 },
 "nbformat": 4,
 "nbformat_minor": 2
}
